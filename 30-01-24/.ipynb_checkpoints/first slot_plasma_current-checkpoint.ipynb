{
 "cells": [
  {
   "cell_type": "code",
   "execution_count": 1,
   "id": "af489a34",
   "metadata": {},
   "outputs": [],
   "source": [
    "import pandas as pd \n",
    "import numpy as np"
   ]
  },
  {
   "cell_type": "code",
   "execution_count": 6,
   "id": "7048c5e8",
   "metadata": {},
   "outputs": [],
   "source": [
    "df = pd.read_csv(\"output2.csv\",usecols=[1])"
   ]
  },
  {
   "cell_type": "code",
   "execution_count": 9,
   "id": "ae8d5448",
   "metadata": {},
   "outputs": [],
   "source": [
    "df = df.iloc[:400,:]"
   ]
  },
  {
   "cell_type": "code",
   "execution_count": null,
   "id": "c0e83ed8",
   "metadata": {},
   "outputs": [],
   "source": []
  }
 ],
 "metadata": {
  "kernelspec": {
   "display_name": "Python 3 (ipykernel)",
   "language": "python",
   "name": "python3"
  },
  "language_info": {
   "codemirror_mode": {
    "name": "ipython",
    "version": 3
   },
   "file_extension": ".py",
   "mimetype": "text/x-python",
   "name": "python",
   "nbconvert_exporter": "python",
   "pygments_lexer": "ipython3",
   "version": "3.11.3"
  }
 },
 "nbformat": 4,
 "nbformat_minor": 5
}
