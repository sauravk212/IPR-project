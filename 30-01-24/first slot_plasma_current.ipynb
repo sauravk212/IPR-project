{
 "cells": [
  {
   "cell_type": "code",
   "execution_count": 1,
   "id": "ed08c8d2",
   "metadata": {},
   "outputs": [],
   "source": [
    "import pandas as pd \n",
    "import numpy as np\n",
    "import matplotlib.pyplot as plt"
   ]
  },
  {
   "cell_type": "code",
   "execution_count": 2,
   "id": "d2fc8358",
   "metadata": {},
   "outputs": [
    {
     "data": {
      "text/html": [
       "<div>\n",
       "<style scoped>\n",
       "    .dataframe tbody tr th:only-of-type {\n",
       "        vertical-align: middle;\n",
       "    }\n",
       "\n",
       "    .dataframe tbody tr th {\n",
       "        vertical-align: top;\n",
       "    }\n",
       "\n",
       "    .dataframe thead th {\n",
       "        text-align: right;\n",
       "    }\n",
       "</style>\n",
       "<table border=\"1\" class=\"dataframe\">\n",
       "  <thead>\n",
       "    <tr style=\"text-align: right;\">\n",
       "      <th></th>\n",
       "      <th>Plasma_current</th>\n",
       "    </tr>\n",
       "  </thead>\n",
       "  <tbody>\n",
       "    <tr>\n",
       "      <th>0</th>\n",
       "      <td>0.0000</td>\n",
       "    </tr>\n",
       "    <tr>\n",
       "      <th>1</th>\n",
       "      <td>1.3591</td>\n",
       "    </tr>\n",
       "    <tr>\n",
       "      <th>2</th>\n",
       "      <td>5.7585</td>\n",
       "    </tr>\n",
       "    <tr>\n",
       "      <th>3</th>\n",
       "      <td>11.6940</td>\n",
       "    </tr>\n",
       "    <tr>\n",
       "      <th>4</th>\n",
       "      <td>17.8730</td>\n",
       "    </tr>\n",
       "    <tr>\n",
       "      <th>...</th>\n",
       "      <td>...</td>\n",
       "    </tr>\n",
       "    <tr>\n",
       "      <th>395</th>\n",
       "      <td>0.0000</td>\n",
       "    </tr>\n",
       "    <tr>\n",
       "      <th>396</th>\n",
       "      <td>0.0000</td>\n",
       "    </tr>\n",
       "    <tr>\n",
       "      <th>397</th>\n",
       "      <td>0.0000</td>\n",
       "    </tr>\n",
       "    <tr>\n",
       "      <th>398</th>\n",
       "      <td>0.0000</td>\n",
       "    </tr>\n",
       "    <tr>\n",
       "      <th>399</th>\n",
       "      <td>0.0000</td>\n",
       "    </tr>\n",
       "  </tbody>\n",
       "</table>\n",
       "<p>400 rows × 1 columns</p>\n",
       "</div>"
      ],
      "text/plain": [
       "     Plasma_current\n",
       "0            0.0000\n",
       "1            1.3591\n",
       "2            5.7585\n",
       "3           11.6940\n",
       "4           17.8730\n",
       "..              ...\n",
       "395          0.0000\n",
       "396          0.0000\n",
       "397          0.0000\n",
       "398          0.0000\n",
       "399          0.0000\n",
       "\n",
       "[400 rows x 1 columns]"
      ]
     },
     "execution_count": 2,
     "metadata": {},
     "output_type": "execute_result"
    }
   ],
   "source": [
    "df = pd.read_csv(\"output2.csv\",usecols=[1])\n",
    "df = df.iloc[:400,:]\n",
    "df = df.clip(lower=0)\n",
    "df"
   ]
  },
  {
   "cell_type": "code",
   "execution_count": 3,
   "id": "d0241f26",
   "metadata": {},
   "outputs": [
    {
     "data": {
      "image/png": "[encoded data removed]",
      "text/plain": [
       "<Figure size 1200x600 with 1 Axes>"
      ]
     },
     "metadata": {},
     "output_type": "display_data"
    }
   ],
   "source": [
    "plt.figure(figsize=(12, 6))\n",
    "plt.plot(df['Plasma_current'])\n",
    "plt.title('Plasma Current Time Series')\n",
    "plt.xlabel('Time')\n",
    "plt.ylabel('Plasma Current')\n",
    "plt.show()"
   ]
  },
  {
   "cell_type": "code",
   "execution_count": 4,
   "id": "9e41c95d",
   "metadata": {},
   "outputs": [],
   "source": [
    "dataset = df.values"
   ]
  },
  {
   "cell_type": "code",
   "execution_count": 5,
   "id": "dded463e",
   "metadata": {},
   "outputs": [],
   "source": [
    "from sklearn.preprocessing import MinMaxScaler\n",
    "scaler = MinMaxScaler()\n",
    "dataset = scaler.fit_transform(dataset)"
   ]
  },
  {
   "cell_type": "code",
   "execution_count": 6,
   "id": "527b1388",
   "metadata": {},
   "outputs": [],
   "source": [
    "def create_sequences(dataset,n_steps):\n",
    "    X,y = [],[]\n",
    "    for i in range(len(dataset)-n_steps):\n",
    "        window = dataset[i:i+n_steps]\n",
    "        X.append(window)\n",
    "        y.append(dataset[i+n_steps])\n",
    "    return np.array(X), np.array(y)"
   ]
  },
  {
   "cell_type": "code",
   "execution_count": 7,
   "id": "313da231",
   "metadata": {},
   "outputs": [
    {
     "data": {
      "text/plain": [
       "array([[[0.        ],\n",
       "        [0.02290824],\n",
       "        [0.0970621 ],\n",
       "        [0.19710761],\n",
       "        [0.30125742],\n",
       "        [0.35087985],\n",
       "        [0.39367584],\n",
       "        [0.42066141],\n",
       "        [0.44139361],\n",
       "        [0.51473166]],\n",
       "\n",
       "       [[0.02290824],\n",
       "        [0.0970621 ],\n",
       "        [0.19710761],\n",
       "        [0.30125742],\n",
       "        [0.35087985],\n",
       "        [0.39367584],\n",
       "        [0.42066141],\n",
       "        [0.44139361],\n",
       "        [0.51473166],\n",
       "        [0.60224515]],\n",
       "\n",
       "       [[0.0970621 ],\n",
       "        [0.19710761],\n",
       "        [0.30125742],\n",
       "        [0.35087985],\n",
       "        [0.39367584],\n",
       "        [0.42066141],\n",
       "        [0.44139361],\n",
       "        [0.51473166],\n",
       "        [0.60224515],\n",
       "        [0.68756742]],\n",
       "\n",
       "       [[0.19710761],\n",
       "        [0.30125742],\n",
       "        [0.35087985],\n",
       "        [0.39367584],\n",
       "        [0.42066141],\n",
       "        [0.44139361],\n",
       "        [0.51473166],\n",
       "        [0.60224515],\n",
       "        [0.68756742],\n",
       "        [0.7131877 ]],\n",
       "\n",
       "       [[0.30125742],\n",
       "        [0.35087985],\n",
       "        [0.39367584],\n",
       "        [0.42066141],\n",
       "        [0.44139361],\n",
       "        [0.51473166],\n",
       "        [0.60224515],\n",
       "        [0.68756742],\n",
       "        [0.7131877 ],\n",
       "        [0.78625607]],\n",
       "\n",
       "       [[0.35087985],\n",
       "        [0.39367584],\n",
       "        [0.42066141],\n",
       "        [0.44139361],\n",
       "        [0.51473166],\n",
       "        [0.60224515],\n",
       "        [0.68756742],\n",
       "        [0.7131877 ],\n",
       "        [0.78625607],\n",
       "        [0.83314792]],\n",
       "\n",
       "       [[0.39367584],\n",
       "        [0.42066141],\n",
       "        [0.44139361],\n",
       "        [0.51473166],\n",
       "        [0.60224515],\n",
       "        [0.68756742],\n",
       "        [0.7131877 ],\n",
       "        [0.78625607],\n",
       "        [0.83314792],\n",
       "        [0.88794498]],\n",
       "\n",
       "       [[0.42066141],\n",
       "        [0.44139361],\n",
       "        [0.51473166],\n",
       "        [0.60224515],\n",
       "        [0.68756742],\n",
       "        [0.7131877 ],\n",
       "        [0.78625607],\n",
       "        [0.83314792],\n",
       "        [0.88794498],\n",
       "        [0.95610841]],\n",
       "\n",
       "       [[0.44139361],\n",
       "        [0.51473166],\n",
       "        [0.60224515],\n",
       "        [0.68756742],\n",
       "        [0.7131877 ],\n",
       "        [0.78625607],\n",
       "        [0.83314792],\n",
       "        [0.88794498],\n",
       "        [0.95610841],\n",
       "        [0.93483684]],\n",
       "\n",
       "       [[0.51473166],\n",
       "        [0.60224515],\n",
       "        [0.68756742],\n",
       "        [0.7131877 ],\n",
       "        [0.78625607],\n",
       "        [0.83314792],\n",
       "        [0.88794498],\n",
       "        [0.95610841],\n",
       "        [0.93483684],\n",
       "        [0.93837648]],\n",
       "\n",
       "       [[0.60224515],\n",
       "        [0.68756742],\n",
       "        [0.7131877 ],\n",
       "        [0.78625607],\n",
       "        [0.83314792],\n",
       "        [0.88794498],\n",
       "        [0.95610841],\n",
       "        [0.93483684],\n",
       "        [0.93837648],\n",
       "        [0.91929612]],\n",
       "\n",
       "       [[0.68756742],\n",
       "        [0.7131877 ],\n",
       "        [0.78625607],\n",
       "        [0.83314792],\n",
       "        [0.88794498],\n",
       "        [0.95610841],\n",
       "        [0.93483684],\n",
       "        [0.93837648],\n",
       "        [0.91929612],\n",
       "        [0.88357942]],\n",
       "\n",
       "       [[0.7131877 ],\n",
       "        [0.78625607],\n",
       "        [0.83314792],\n",
       "        [0.88794498],\n",
       "        [0.95610841],\n",
       "        [0.93483684],\n",
       "        [0.93837648],\n",
       "        [0.91929612],\n",
       "        [0.88357942],\n",
       "        [0.86313376]],\n",
       "\n",
       "       [[0.78625607],\n",
       "        [0.83314792],\n",
       "        [0.88794498],\n",
       "        [0.95610841],\n",
       "        [0.93483684],\n",
       "        [0.93837648],\n",
       "        [0.91929612],\n",
       "        [0.88357942],\n",
       "        [0.86313376],\n",
       "        [0.8544195 ]],\n",
       "\n",
       "       [[0.83314792],\n",
       "        [0.88794498],\n",
       "        [0.95610841],\n",
       "        [0.93483684],\n",
       "        [0.93837648],\n",
       "        [0.91929612],\n",
       "        [0.88357942],\n",
       "        [0.86313376],\n",
       "        [0.8544195 ],\n",
       "        [0.86776901]],\n",
       "\n",
       "       [[0.88794498],\n",
       "        [0.95610841],\n",
       "        [0.93483684],\n",
       "        [0.93837648],\n",
       "        [0.91929612],\n",
       "        [0.88357942],\n",
       "        [0.86313376],\n",
       "        [0.8544195 ],\n",
       "        [0.86776901],\n",
       "        [0.89313646]],\n",
       "\n",
       "       [[0.95610841],\n",
       "        [0.93483684],\n",
       "        [0.93837648],\n",
       "        [0.91929612],\n",
       "        [0.88357942],\n",
       "        [0.86313376],\n",
       "        [0.8544195 ],\n",
       "        [0.86776901],\n",
       "        [0.89313646],\n",
       "        [0.88604032]],\n",
       "\n",
       "       [[0.93483684],\n",
       "        [0.93837648],\n",
       "        [0.91929612],\n",
       "        [0.88357942],\n",
       "        [0.86313376],\n",
       "        [0.8544195 ],\n",
       "        [0.86776901],\n",
       "        [0.89313646],\n",
       "        [0.88604032],\n",
       "        [0.90731189]],\n",
       "\n",
       "       [[0.93837648],\n",
       "        [0.91929612],\n",
       "        [0.88357942],\n",
       "        [0.86313376],\n",
       "        [0.8544195 ],\n",
       "        [0.86776901],\n",
       "        [0.89313646],\n",
       "        [0.88604032],\n",
       "        [0.90731189],\n",
       "        [0.93620213]],\n",
       "\n",
       "       [[0.91929612],\n",
       "        [0.88357942],\n",
       "        [0.86313376],\n",
       "        [0.8544195 ],\n",
       "        [0.86776901],\n",
       "        [0.89313646],\n",
       "        [0.88604032],\n",
       "        [0.90731189],\n",
       "        [0.93620213],\n",
       "        [0.91902643]],\n",
       "\n",
       "       [[0.88357942],\n",
       "        [0.86313376],\n",
       "        [0.8544195 ],\n",
       "        [0.86776901],\n",
       "        [0.89313646],\n",
       "        [0.88604032],\n",
       "        [0.90731189],\n",
       "        [0.93620213],\n",
       "        [0.91902643],\n",
       "        [0.94520294]],\n",
       "\n",
       "       [[0.86313376],\n",
       "        [0.8544195 ],\n",
       "        [0.86776901],\n",
       "        [0.89313646],\n",
       "        [0.88604032],\n",
       "        [0.90731189],\n",
       "        [0.93620213],\n",
       "        [0.91902643],\n",
       "        [0.94520294],\n",
       "        [0.97272789]],\n",
       "\n",
       "       [[0.8544195 ],\n",
       "        [0.86776901],\n",
       "        [0.89313646],\n",
       "        [0.88604032],\n",
       "        [0.90731189],\n",
       "        [0.93620213],\n",
       "        [0.91902643],\n",
       "        [0.94520294],\n",
       "        [0.97272789],\n",
       "        [0.97491909]],\n",
       "\n",
       "       [[0.86776901],\n",
       "        [0.89313646],\n",
       "        [0.88604032],\n",
       "        [0.90731189],\n",
       "        [0.93620213],\n",
       "        [0.91902643],\n",
       "        [0.94520294],\n",
       "        [0.97272789],\n",
       "        [0.97491909],\n",
       "        [0.97928465]],\n",
       "\n",
       "       [[0.89313646],\n",
       "        [0.88604032],\n",
       "        [0.90731189],\n",
       "        [0.93620213],\n",
       "        [0.91902643],\n",
       "        [0.94520294],\n",
       "        [0.97272789],\n",
       "        [0.97491909],\n",
       "        [0.97928465],\n",
       "        [0.9896339 ]],\n",
       "\n",
       "       [[0.88604032],\n",
       "        [0.90731189],\n",
       "        [0.93620213],\n",
       "        [0.91902643],\n",
       "        [0.94520294],\n",
       "        [0.97272789],\n",
       "        [0.97491909],\n",
       "        [0.97928465],\n",
       "        [0.9896339 ],\n",
       "        [1.        ]],\n",
       "\n",
       "       [[0.90731189],\n",
       "        [0.93620213],\n",
       "        [0.91902643],\n",
       "        [0.94520294],\n",
       "        [0.97272789],\n",
       "        [0.97491909],\n",
       "        [0.97928465],\n",
       "        [0.9896339 ],\n",
       "        [1.        ],\n",
       "        [0.97164914]],\n",
       "\n",
       "       [[0.93620213],\n",
       "        [0.91902643],\n",
       "        [0.94520294],\n",
       "        [0.97272789],\n",
       "        [0.97491909],\n",
       "        [0.97928465],\n",
       "        [0.9896339 ],\n",
       "        [1.        ],\n",
       "        [0.97164914],\n",
       "        [0.95228223]],\n",
       "\n",
       "       [[0.91902643],\n",
       "        [0.94520294],\n",
       "        [0.97272789],\n",
       "        [0.97491909],\n",
       "        [0.97928465],\n",
       "        [0.9896339 ],\n",
       "        [1.        ],\n",
       "        [0.97164914],\n",
       "        [0.95228223],\n",
       "        [0.94710761]],\n",
       "\n",
       "       [[0.94520294],\n",
       "        [0.97272789],\n",
       "        [0.97491909],\n",
       "        [0.97928465],\n",
       "        [0.9896339 ],\n",
       "        [1.        ],\n",
       "        [0.97164914],\n",
       "        [0.95228223],\n",
       "        [0.94710761],\n",
       "        [0.53381203]]])"
      ]
     },
     "execution_count": 7,
     "metadata": {},
     "output_type": "execute_result"
    }
   ],
   "source": [
    "n_steps = 10\n",
    "\n",
    "X,y = create_sequences(dataset,n_steps)\n",
    "X = X[:30]\n",
    "y = y[:30]\n",
    "X"
   ]
  },
  {
   "cell_type": "code",
   "execution_count": 8,
   "id": "2570a6b6",
   "metadata": {},
   "outputs": [],
   "source": [
    "test_size = 0.8\n",
    "split_index = int(test_size*len(X))\n",
    "\n",
    "X_train,X_test = X[:split_index], X[split_index:]\n",
    "y_train, y_test =  y[:split_index], y[split_index:]"
   ]
  },
  {
   "cell_type": "code",
   "execution_count": 9,
   "id": "5b0790f6",
   "metadata": {},
   "outputs": [
    {
     "data": {
      "text/plain": [
       "array([[1.        ],\n",
       "       [0.97164914],\n",
       "       [0.95228223],\n",
       "       [0.94710761],\n",
       "       [0.53381203],\n",
       "       [0.        ]])"
      ]
     },
     "execution_count": 9,
     "metadata": {},
     "output_type": "execute_result"
    }
   ],
   "source": [
    "y_test"
   ]
  },
  {
   "cell_type": "code",
   "execution_count": 10,
   "id": "87185808",
   "metadata": {},
   "outputs": [
    {
     "name": "stdout",
     "output_type": "stream",
     "text": [
      "(24, 10, 1)\n",
      "(6, 10, 1)\n",
      "(24, 1)\n",
      "(6, 1)\n"
     ]
    }
   ],
   "source": [
    "print(X_train.shape)\n",
    "print(X_test.shape)\n",
    "print(y_train.shape)\n",
    "print(y_test.shape)"
   ]
  },
  {
   "cell_type": "code",
   "execution_count": 11,
   "id": "aaab1282",
   "metadata": {},
   "outputs": [
    {
     "name": "stdout",
     "output_type": "stream",
     "text": [
      "WARNING:tensorflow:From C:\\Users\\PLEXTEK\\AppData\\Roaming\\Python\\Python311\\site-packages\\keras\\src\\losses.py:2976: The name tf.losses.sparse_softmax_cross_entropy is deprecated. Please use tf.compat.v1.losses.sparse_softmax_cross_entropy instead.\n",
      "\n"
     ]
    }
   ],
   "source": [
    "from keras.models import Sequential\n",
    "from keras.layers import Dense, LSTM"
   ]
  },
  {
   "cell_type": "code",
   "execution_count": 12,
   "id": "dca66836",
   "metadata": {},
   "outputs": [
    {
     "name": "stdout",
     "output_type": "stream",
     "text": [
      "WARNING:tensorflow:From C:\\Users\\PLEXTEK\\AppData\\Roaming\\Python\\Python311\\site-packages\\keras\\src\\backend.py:873: The name tf.get_default_graph is deprecated. Please use tf.compat.v1.get_default_graph instead.\n",
      "\n",
      "WARNING:tensorflow:From C:\\Users\\PLEXTEK\\AppData\\Roaming\\Python\\Python311\\site-packages\\keras\\src\\optimizers\\__init__.py:309: The name tf.train.Optimizer is deprecated. Please use tf.compat.v1.train.Optimizer instead.\n",
      "\n"
     ]
    }
   ],
   "source": [
    "model = Sequential()\n",
    "model.add(LSTM(50, activation = 'relu', input_shape=(n_steps,1)))\n",
    "model.add(Dense(1))\n",
    "model.compile(optimizer='adam',loss='mean_squared_error')"
   ]
  },
  {
   "cell_type": "code",
   "execution_count": 13,
   "id": "49fc0756",
   "metadata": {},
   "outputs": [
    {
     "name": "stdout",
     "output_type": "stream",
     "text": [
      "Model: \"sequential\"\n",
      "_________________________________________________________________\n",
      " Layer (type)                Output Shape              Param #   \n",
      "=================================================================\n",
      " lstm (LSTM)                 (None, 50)                10400     \n",
      "                                                                 \n",
      " dense (Dense)               (None, 1)                 51        \n",
      "                                                                 \n",
      "=================================================================\n",
      "Total params: 10451 (40.82 KB)\n",
      "Trainable params: 10451 (40.82 KB)\n",
      "Non-trainable params: 0 (0.00 Byte)\n",
      "_________________________________________________________________\n"
     ]
    }
   ],
   "source": [
    "model.summary()"
   ]
  },
  {
   "cell_type": "code",
   "execution_count": 14,
   "id": "855b145c",
   "metadata": {},
   "outputs": [
    {
     "name": "stdout",
     "output_type": "stream",
     "text": [
      "Epoch 1/100\n",
      "WARNING:tensorflow:From C:\\Users\\PLEXTEK\\AppData\\Roaming\\Python\\Python311\\site-packages\\keras\\src\\utils\\tf_utils.py:492: The name tf.ragged.RaggedTensorValue is deprecated. Please use tf.compat.v1.ragged.RaggedTensorValue instead.\n",
      "\n",
      "1/1 [==============================] - 1s 1s/step - loss: 0.7180 - val_loss: 0.5863\n",
      "Epoch 2/100\n",
      "1/1 [==============================] - 0s 31ms/step - loss: 0.6972 - val_loss: 0.5668\n",
      "Epoch 3/100\n",
      "1/1 [==============================] - 0s 26ms/step - loss: 0.6767 - val_loss: 0.5477\n",
      "Epoch 4/100\n",
      "1/1 [==============================] - 0s 29ms/step - loss: 0.6561 - val_loss: 0.5290\n",
      "Epoch 5/100\n",
      "1/1 [==============================] - 0s 35ms/step - loss: 0.6356 - val_loss: 0.5100\n",
      "Epoch 6/100\n",
      "1/1 [==============================] - 0s 30ms/step - loss: 0.6146 - val_loss: 0.4905\n",
      "Epoch 7/100\n",
      "1/1 [==============================] - 0s 31ms/step - loss: 0.5935 - val_loss: 0.4713\n",
      "Epoch 8/100\n",
      "1/1 [==============================] - 0s 27ms/step - loss: 0.5728 - val_loss: 0.4527\n",
      "Epoch 9/100\n",
      "1/1 [==============================] - 0s 27ms/step - loss: 0.5527 - val_loss: 0.4356\n",
      "Epoch 10/100\n",
      "1/1 [==============================] - 0s 28ms/step - loss: 0.5337 - val_loss: 0.4189\n",
      "Epoch 11/100\n",
      "1/1 [==============================] - 0s 31ms/step - loss: 0.5148 - val_loss: 0.4025\n",
      "Epoch 12/100\n",
      "1/1 [==============================] - 0s 29ms/step - loss: 0.4960 - val_loss: 0.3864\n",
      "Epoch 13/100\n",
      "1/1 [==============================] - 0s 26ms/step - loss: 0.4775 - val_loss: 0.3704\n",
      "Epoch 14/100\n",
      "1/1 [==============================] - 0s 26ms/step - loss: 0.4590 - val_loss: 0.3546\n",
      "Epoch 15/100\n",
      "1/1 [==============================] - 0s 28ms/step - loss: 0.4406 - val_loss: 0.3391\n",
      "Epoch 16/100\n",
      "1/1 [==============================] - 0s 27ms/step - loss: 0.4222 - val_loss: 0.3236\n",
      "Epoch 17/100\n",
      "1/1 [==============================] - 0s 29ms/step - loss: 0.4037 - val_loss: 0.3082\n",
      "Epoch 18/100\n",
      "1/1 [==============================] - 0s 26ms/step - loss: 0.3850 - val_loss: 0.2928\n",
      "Epoch 19/100\n",
      "1/1 [==============================] - 0s 27ms/step - loss: 0.3662 - val_loss: 0.2774\n",
      "Epoch 20/100\n",
      "1/1 [==============================] - 0s 25ms/step - loss: 0.3471 - val_loss: 0.2621\n",
      "Epoch 21/100\n",
      "1/1 [==============================] - 0s 26ms/step - loss: 0.3277 - val_loss: 0.2470\n",
      "Epoch 22/100\n",
      "1/1 [==============================] - 0s 27ms/step - loss: 0.3081 - val_loss: 0.2320\n",
      "Epoch 23/100\n",
      "1/1 [==============================] - 0s 26ms/step - loss: 0.2882 - val_loss: 0.2173\n",
      "Epoch 24/100\n",
      "1/1 [==============================] - 0s 30ms/step - loss: 0.2681 - val_loss: 0.2030\n",
      "Epoch 25/100\n",
      "1/1 [==============================] - 0s 31ms/step - loss: 0.2478 - val_loss: 0.1893\n",
      "Epoch 26/100\n",
      "1/1 [==============================] - 0s 28ms/step - loss: 0.2274 - val_loss: 0.1763\n",
      "Epoch 27/100\n",
      "1/1 [==============================] - 0s 26ms/step - loss: 0.2070 - val_loss: 0.1641\n",
      "Epoch 28/100\n",
      "1/1 [==============================] - 0s 26ms/step - loss: 0.1866 - val_loss: 0.1530\n",
      "Epoch 29/100\n",
      "1/1 [==============================] - 0s 31ms/step - loss: 0.1662 - val_loss: 0.1432\n",
      "Epoch 30/100\n",
      "1/1 [==============================] - 0s 31ms/step - loss: 0.1460 - val_loss: 0.1351\n",
      "Epoch 31/100\n",
      "1/1 [==============================] - 0s 27ms/step - loss: 0.1261 - val_loss: 0.1292\n",
      "Epoch 32/100\n",
      "1/1 [==============================] - 0s 27ms/step - loss: 0.1066 - val_loss: 0.1260\n",
      "Epoch 33/100\n",
      "1/1 [==============================] - 0s 29ms/step - loss: 0.0878 - val_loss: 0.1264\n",
      "Epoch 34/100\n",
      "1/1 [==============================] - 0s 28ms/step - loss: 0.0700 - val_loss: 0.1312\n",
      "Epoch 35/100\n",
      "1/1 [==============================] - 0s 27ms/step - loss: 0.0538 - val_loss: 0.1414\n",
      "Epoch 36/100\n",
      "1/1 [==============================] - 0s 26ms/step - loss: 0.0397 - val_loss: 0.1582\n",
      "Epoch 37/100\n",
      "1/1 [==============================] - 0s 31ms/step - loss: 0.0285 - val_loss: 0.1823\n",
      "Epoch 38/100\n",
      "1/1 [==============================] - 0s 32ms/step - loss: 0.0206 - val_loss: 0.2143\n",
      "Epoch 39/100\n",
      "1/1 [==============================] - 0s 30ms/step - loss: 0.0168 - val_loss: 0.2531\n",
      "Epoch 40/100\n",
      "1/1 [==============================] - 0s 29ms/step - loss: 0.0173 - val_loss: 0.2959\n",
      "Epoch 41/100\n",
      "1/1 [==============================] - 0s 27ms/step - loss: 0.0215 - val_loss: 0.3374\n",
      "Epoch 42/100\n",
      "1/1 [==============================] - 0s 29ms/step - loss: 0.0280 - val_loss: 0.3711\n",
      "Epoch 43/100\n",
      "1/1 [==============================] - 0s 28ms/step - loss: 0.0345 - val_loss: 0.3916\n",
      "Epoch 44/100\n",
      "1/1 [==============================] - 0s 29ms/step - loss: 0.0390 - val_loss: 0.3967\n",
      "Epoch 45/100\n",
      "1/1 [==============================] - 0s 26ms/step - loss: 0.0402 - val_loss: 0.3879\n",
      "Epoch 46/100\n",
      "1/1 [==============================] - 0s 27ms/step - loss: 0.0382 - val_loss: 0.3682\n",
      "Epoch 47/100\n",
      "1/1 [==============================] - 0s 28ms/step - loss: 0.0341 - val_loss: 0.3421\n",
      "Epoch 48/100\n",
      "1/1 [==============================] - 0s 27ms/step - loss: 0.0289 - val_loss: 0.3135\n",
      "Epoch 49/100\n",
      "1/1 [==============================] - 0s 27ms/step - loss: 0.0239 - val_loss: 0.2852\n",
      "Epoch 50/100\n",
      "1/1 [==============================] - 0s 30ms/step - loss: 0.0196 - val_loss: 0.2592\n",
      "Epoch 51/100\n",
      "1/1 [==============================] - 0s 30ms/step - loss: 0.0167 - val_loss: 0.2365\n",
      "Epoch 52/100\n",
      "1/1 [==============================] - 0s 30ms/step - loss: 0.0150 - val_loss: 0.2175\n",
      "Epoch 53/100\n",
      "1/1 [==============================] - 0s 26ms/step - loss: 0.0144 - val_loss: 0.2022\n",
      "Epoch 54/100\n",
      "1/1 [==============================] - 0s 28ms/step - loss: 0.0148 - val_loss: 0.1904\n",
      "Epoch 55/100\n",
      "1/1 [==============================] - 0s 25ms/step - loss: 0.0156 - val_loss: 0.1819\n",
      "Epoch 56/100\n",
      "1/1 [==============================] - 0s 26ms/step - loss: 0.0167 - val_loss: 0.1762\n",
      "Epoch 57/100\n",
      "1/1 [==============================] - 0s 28ms/step - loss: 0.0175 - val_loss: 0.1727\n",
      "Epoch 58/100\n",
      "1/1 [==============================] - 0s 27ms/step - loss: 0.0181 - val_loss: 0.1711\n",
      "Epoch 59/100\n",
      "1/1 [==============================] - 0s 24ms/step - loss: 0.0183 - val_loss: 0.1712\n",
      "Epoch 60/100\n",
      "1/1 [==============================] - 0s 28ms/step - loss: 0.0181 - val_loss: 0.1726\n",
      "Epoch 61/100\n",
      "1/1 [==============================] - 0s 30ms/step - loss: 0.0176 - val_loss: 0.1752\n",
      "Epoch 62/100\n",
      "1/1 [==============================] - 0s 28ms/step - loss: 0.0169 - val_loss: 0.1788\n",
      "Epoch 63/100\n",
      "1/1 [==============================] - 0s 24ms/step - loss: 0.0161 - val_loss: 0.1833\n",
      "Epoch 64/100\n",
      "1/1 [==============================] - 0s 31ms/step - loss: 0.0152 - val_loss: 0.1886\n",
      "Epoch 65/100\n",
      "1/1 [==============================] - 0s 31ms/step - loss: 0.0144 - val_loss: 0.1945\n",
      "Epoch 66/100\n",
      "1/1 [==============================] - 0s 34ms/step - loss: 0.0137 - val_loss: 0.2008\n",
      "Epoch 67/100\n",
      "1/1 [==============================] - 0s 31ms/step - loss: 0.0132 - val_loss: 0.2072\n",
      "Epoch 68/100\n",
      "1/1 [==============================] - 0s 30ms/step - loss: 0.0128 - val_loss: 0.2135\n",
      "Epoch 69/100\n",
      "1/1 [==============================] - 0s 25ms/step - loss: 0.0126 - val_loss: 0.2194\n",
      "Epoch 70/100\n",
      "1/1 [==============================] - 0s 27ms/step - loss: 0.0125 - val_loss: 0.2247\n",
      "Epoch 71/100\n",
      "1/1 [==============================] - 0s 28ms/step - loss: 0.0125 - val_loss: 0.2291\n",
      "Epoch 72/100\n",
      "1/1 [==============================] - 0s 24ms/step - loss: 0.0126 - val_loss: 0.2325\n",
      "Epoch 73/100\n",
      "1/1 [==============================] - 0s 28ms/step - loss: 0.0126 - val_loss: 0.2346\n",
      "Epoch 74/100\n",
      "1/1 [==============================] - 0s 25ms/step - loss: 0.0126 - val_loss: 0.2356\n",
      "Epoch 75/100\n",
      "1/1 [==============================] - 0s 24ms/step - loss: 0.0125 - val_loss: 0.2353\n",
      "Epoch 76/100\n",
      "1/1 [==============================] - 0s 28ms/step - loss: 0.0124 - val_loss: 0.2341\n",
      "Epoch 77/100\n",
      "1/1 [==============================] - 0s 26ms/step - loss: 0.0121 - val_loss: 0.2319\n",
      "Epoch 78/100\n",
      "1/1 [==============================] - 0s 27ms/step - loss: 0.0119 - val_loss: 0.2291\n",
      "Epoch 79/100\n",
      "1/1 [==============================] - 0s 30ms/step - loss: 0.0115 - val_loss: 0.2258\n",
      "Epoch 80/100\n",
      "1/1 [==============================] - 0s 28ms/step - loss: 0.0112 - val_loss: 0.2222\n",
      "Epoch 81/100\n"
     ]
    },
    {
     "name": "stdout",
     "output_type": "stream",
     "text": [
      "1/1 [==============================] - 0s 26ms/step - loss: 0.0109 - val_loss: 0.2187\n",
      "Epoch 82/100\n",
      "1/1 [==============================] - 0s 31ms/step - loss: 0.0107 - val_loss: 0.2153\n",
      "Epoch 83/100\n",
      "1/1 [==============================] - 0s 28ms/step - loss: 0.0104 - val_loss: 0.2121\n",
      "Epoch 84/100\n",
      "1/1 [==============================] - 0s 30ms/step - loss: 0.0102 - val_loss: 0.2093\n",
      "Epoch 85/100\n",
      "1/1 [==============================] - 0s 24ms/step - loss: 0.0101 - val_loss: 0.2070\n",
      "Epoch 86/100\n",
      "1/1 [==============================] - 0s 25ms/step - loss: 0.0099 - val_loss: 0.2051\n",
      "Epoch 87/100\n",
      "1/1 [==============================] - 0s 25ms/step - loss: 0.0098 - val_loss: 0.2037\n",
      "Epoch 88/100\n",
      "1/1 [==============================] - 0s 25ms/step - loss: 0.0096 - val_loss: 0.2027\n",
      "Epoch 89/100\n",
      "1/1 [==============================] - 0s 28ms/step - loss: 0.0094 - val_loss: 0.2024\n",
      "Epoch 90/100\n",
      "1/1 [==============================] - 0s 27ms/step - loss: 0.0093 - val_loss: 0.2024\n",
      "Epoch 91/100\n",
      "1/1 [==============================] - 0s 28ms/step - loss: 0.0091 - val_loss: 0.2028\n",
      "Epoch 92/100\n",
      "1/1 [==============================] - 0s 28ms/step - loss: 0.0089 - val_loss: 0.2035\n",
      "Epoch 93/100\n",
      "1/1 [==============================] - 0s 27ms/step - loss: 0.0087 - val_loss: 0.2043\n",
      "Epoch 94/100\n",
      "1/1 [==============================] - 0s 26ms/step - loss: 0.0086 - val_loss: 0.2051\n",
      "Epoch 95/100\n",
      "1/1 [==============================] - 0s 31ms/step - loss: 0.0084 - val_loss: 0.2057\n",
      "Epoch 96/100\n",
      "1/1 [==============================] - 0s 30ms/step - loss: 0.0082 - val_loss: 0.2061\n",
      "Epoch 97/100\n",
      "1/1 [==============================] - 0s 28ms/step - loss: 0.0081 - val_loss: 0.2061\n",
      "Epoch 98/100\n",
      "1/1 [==============================] - 0s 24ms/step - loss: 0.0079 - val_loss: 0.2057\n",
      "Epoch 99/100\n",
      "1/1 [==============================] - 0s 28ms/step - loss: 0.0077 - val_loss: 0.2049\n",
      "Epoch 100/100\n",
      "1/1 [==============================] - 0s 27ms/step - loss: 0.0075 - val_loss: 0.2038\n"
     ]
    },
    {
     "data": {
      "text/plain": [
       "<keras.src.callbacks.History at 0x24def177990>"
      ]
     },
     "execution_count": 14,
     "metadata": {},
     "output_type": "execute_result"
    }
   ],
   "source": [
    "model.fit(X_train,y_train,validation_data=(X_test, y_test), epochs=100)"
   ]
  },
  {
   "cell_type": "code",
   "execution_count": 15,
   "id": "fec77964",
   "metadata": {},
   "outputs": [
    {
     "name": "stdout",
     "output_type": "stream",
     "text": [
      "1/1 [==============================] - 0s 21ms/step - loss: 0.2038\n",
      "Test Loss: 0.20378737151622772\n"
     ]
    }
   ],
   "source": [
    "loss = model.evaluate(X_test, y_test)\n",
    "print(\"Test Loss:\", loss)"
   ]
  },
  {
   "cell_type": "code",
   "execution_count": 16,
   "id": "da592a1b",
   "metadata": {},
   "outputs": [
    {
     "name": "stdout",
     "output_type": "stream",
     "text": [
      "1/1 [==============================] - 0s 151ms/step\n"
     ]
    }
   ],
   "source": [
    "testPredict  = model.predict(X_test)"
   ]
  },
  {
   "cell_type": "code",
   "execution_count": 17,
   "id": "ce680453",
   "metadata": {},
   "outputs": [
    {
     "data": {
      "image/png": "[encoded data removed]",
      "text/plain": [
       "<Figure size 640x480 with 1 Axes>"
      ]
     },
     "metadata": {},
     "output_type": "display_data"
    }
   ],
   "source": [
    "# plt.figure(figsize=(12, 6))\n",
    "plt.plot(y_test, label='Actual')\n",
    "plt.plot(testPredict, label='Predicted')\n",
    "plt.title('Plasma Current Prediction')\n",
    "plt.xlabel('Time')\n",
    "plt.ylabel('Plasma Current')\n",
    "plt.legend()\n",
    "plt.show()"
   ]
  },
  {
   "cell_type": "code",
   "execution_count": 18,
   "id": "1cbacfd4",
   "metadata": {},
   "outputs": [],
   "source": [
    "testPredict = scaler.inverse_transform(testPredict)\n",
    "y_test = scaler.inverse_transform(y_test)"
   ]
  },
  {
   "cell_type": "code",
   "execution_count": 19,
   "id": "2c89e06e",
   "metadata": {},
   "outputs": [
    {
     "data": {
      "text/plain": [
       "((6, 1), (6, 1))"
      ]
     },
     "execution_count": 19,
     "metadata": {},
     "output_type": "execute_result"
    }
   ],
   "source": [
    "y_test.shape,testPredict.shape"
   ]
  },
  {
   "cell_type": "code",
   "execution_count": 20,
   "id": "c7778697",
   "metadata": {},
   "outputs": [
    {
     "name": "stdout",
     "output_type": "stream",
     "text": [
      "Test Score: 26.78 RMSE\n"
     ]
    }
   ],
   "source": [
    "from sklearn.metrics import mean_squared_error\n",
    "import math \n",
    "testScore = math.sqrt(mean_squared_error(y_test, testPredict))\n",
    "print('Test Score: %.2f RMSE' % (testScore))"
   ]
  },
  {
   "cell_type": "code",
   "execution_count": 21,
   "id": "4ecffa3d",
   "metadata": {},
   "outputs": [
    {
     "name": "stdout",
     "output_type": "stream",
     "text": [
      "1/1 [==============================] - 0s 17ms/step\n"
     ]
    }
   ],
   "source": [
    "trainPredict = model.predict(X_train)"
   ]
  },
  {
   "cell_type": "code",
   "execution_count": 22,
   "id": "07a96556",
   "metadata": {},
   "outputs": [],
   "source": [
    "trainPredict = scaler.inverse_transform(trainPredict)\n",
    "y_train = scaler.inverse_transform(y_train)"
   ]
  },
  {
   "cell_type": "code",
   "execution_count": 23,
   "id": "5d04ae94",
   "metadata": {},
   "outputs": [
    {
     "name": "stdout",
     "output_type": "stream",
     "text": [
      "Train Score: 5.08 RMSE\n"
     ]
    }
   ],
   "source": [
    "trainScore = math.sqrt(mean_squared_error(y_train, trainPredict))\n",
    "print('Train Score: %.2f RMSE' % (trainScore))"
   ]
  },
  {
   "cell_type": "code",
   "execution_count": 30,
   "id": "b416f439",
   "metadata": {},
   "outputs": [],
   "source": [
    "trainPredictPlot = np.empty_like(dataset)\n",
    "trainPredictPlot[:, :] = np.nan\n",
    "trainPredictPlot[n_steps:len(trainPredict)+n_steps, :] = trainPredict"
   ]
  },
  {
   "cell_type": "code",
   "execution_count": 48,
   "id": "7f8400d0",
   "metadata": {},
   "outputs": [
    {
     "data": {
      "text/plain": [
       "6"
      ]
     },
     "execution_count": 48,
     "metadata": {},
     "output_type": "execute_result"
    }
   ],
   "source": [
    "len(X)+ len(y)-9 - (len(trainPredict)+(n_steps*2)+1)"
   ]
  },
  {
   "cell_type": "code",
   "execution_count": 52,
   "id": "66e2b1b9",
   "metadata": {},
   "outputs": [],
   "source": [
    "testPredictPlot = np.empty_like(dataset)\n",
    "testPredictPlot[:, :] = np.nan\n",
    "testPredictPlot[len(trainPredict)+(n_steps*2)+1:len(X)+ len(y)-9 , :] = testPredict"
   ]
  },
  {
   "cell_type": "code",
   "execution_count": 64,
   "id": "5c6072a8",
   "metadata": {},
   "outputs": [
    {
     "data": {
      "image/png": "[encoded data removed]",
      "text/plain": [
       "<Figure size 640x480 with 1 Axes>"
      ]
     },
     "metadata": {},
     "output_type": "display_data"
    }
   ],
   "source": [
    "plt.plot(scaler.inverse_transform(dataset),label='Actual')\n",
    "plt.plot(trainPredictPlot,label='TrainPredict')\n",
    "plt.plot(testPredictPlot,label='testPredict')\n",
    "plt.show()"
   ]
  }
 ],
 "metadata": {
  "kernelspec": {
   "display_name": "Python 3 (ipykernel)",
   "language": "python",
   "name": "python3"
  },
  "language_info": {
   "codemirror_mode": {
    "name": "ipython",
    "version": 3
   },
   "file_extension": ".py",
   "mimetype": "text/x-python",
   "name": "python",
   "nbconvert_exporter": "python",
   "pygments_lexer": "ipython3",
   "version": "3.11.3"
  }
 },
 "nbformat": 4,
 "nbformat_minor": 5
}
