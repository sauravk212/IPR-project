{
 "cells": [
  {
   "cell_type": "code",
   "execution_count": 2,
   "id": "6467119f",
   "metadata": {},
   "outputs": [
    {
     "name": "stdout",
     "output_type": "stream",
     "text": [
      "WARNING:tensorflow:From C:\\Users\\PLEXTEK\\AppData\\Roaming\\Python\\Python311\\site-packages\\keras\\src\\losses.py:2976: The name tf.losses.sparse_softmax_cross_entropy is deprecated. Please use tf.compat.v1.losses.sparse_softmax_cross_entropy instead.\n",
      "\n"
     ]
    }
   ],
   "source": [
    "import numpy as np\n",
    "import matplotlib.pyplot as plt\n",
    "import pandas as pd\n",
    "import math\n",
    "\n",
    "from keras.models import Sequential\n",
    "from keras.layers import Dense\n",
    "from keras.layers import LSTM,Flatten\n",
    "from sklearn.preprocessing import MinMaxScaler\n",
    "from sklearn.metrics import mean_squared_error\n",
    "from keras.layers import ConvLSTM2D"
   ]
  },
  {
   "cell_type": "code",
   "execution_count": 3,
   "id": "c86176cd",
   "metadata": {},
   "outputs": [
    {
     "data": {
      "text/plain": [
       "[<matplotlib.lines.Line2D at 0x228923e5510>]"
      ]
     },
     "execution_count": 3,
     "metadata": {},
     "output_type": "execute_result"
    },
    {
     "data": {
      "image/png": "[encoded data removed]",
      "text/plain": [
       "<Figure size 640x480 with 1 Axes>"
      ]
     },
     "metadata": {},
     "output_type": "display_data"
    }
   ],
   "source": [
    "dataframe = pd.read_csv('output2.csv', usecols=[1])\n",
    "dataframe = dataframe.iloc[:,0:2]\n",
    "dataframe = dataframe.clip(lower=0)\n",
    "plt.plot(dataframe)\n"
   ]
  },
  {
   "cell_type": "code",
   "execution_count": 4,
   "id": "bfb328f4",
   "metadata": {},
   "outputs": [],
   "source": [
    "dataset = dataframe.values\n",
    "dataset = dataset.astype('float32')"
   ]
  },
  {
   "cell_type": "code",
   "execution_count": 13,
   "id": "5e107531",
   "metadata": {},
   "outputs": [],
   "source": [
    "scaler = MinMaxScaler(feature_range = (0,1))\n",
    "dataset = scaler.fit_transform(dataset)"
   ]
  },
  {
   "cell_type": "code",
   "execution_count": 19,
   "id": "5d6aa64c",
   "metadata": {},
   "outputs": [],
   "source": [
    "train_size = int(len(dataset)*0.80)\n",
    "test_size = len(dataset) - train_size\n",
    "train, test = dataset[0:train_size,:],dataset[train_size:len(dataset):]"
   ]
  },
  {
   "cell_type": "code",
   "execution_count": 15,
   "id": "35b4ec01",
   "metadata": {},
   "outputs": [],
   "source": [
    "def to_sequences(dataset,seq_size=1):\n",
    "    x = []\n",
    "    y = []\n",
    "    \n",
    "    for i in range(len(dataset) - seq_size-1):\n",
    "        window = dataset[i : (i + seq_size) , 0]\n",
    "        x.append(window)\n",
    "        y.append(dataset[i+seq_size,0])\n",
    "        \n",
    "    return np.array(x),np.array(y)"
   ]
  },
  {
   "cell_type": "code",
   "execution_count": 16,
   "id": "3bb66292",
   "metadata": {},
   "outputs": [],
   "source": [
    "seq_size = 10\n",
    "\n",
    "trainX, trainY = to_sequences(train,seq_size)\n",
    "testX, testY = to_sequences(test,seq_size)"
   ]
  },
  {
   "cell_type": "code",
   "execution_count": 18,
   "id": "955d4551",
   "metadata": {},
   "outputs": [
    {
     "name": "stdout",
     "output_type": "stream",
     "text": [
      "Shape of training set: (320789, 10)\n",
      "Shape of test set: (80189, 10)\n"
     ]
    }
   ],
   "source": [
    "print(\"Shape of training set: {}\".format(trainX.shape))\n",
    "print(\"Shape of test set: {}\".format(testX.shape))"
   ]
  },
  {
   "cell_type": "code",
   "execution_count": 20,
   "id": "101f6be2",
   "metadata": {},
   "outputs": [
    {
     "ename": "ValueError",
     "evalue": "cannot reshape array of size 3207890 into shape (320800,1,1,1,10)",
     "output_type": "error",
     "traceback": [
      "\u001b[1;31m---------------------------------------------------------------------------\u001b[0m",
      "\u001b[1;31mValueError\u001b[0m                                Traceback (most recent call last)",
      "Cell \u001b[1;32mIn[20], line 1\u001b[0m\n\u001b[1;32m----> 1\u001b[0m trainX \u001b[38;5;241m=\u001b[39m trainX\u001b[38;5;241m.\u001b[39mreshape((train\u001b[38;5;241m.\u001b[39mshape[\u001b[38;5;241m0\u001b[39m],\u001b[38;5;241m1\u001b[39m ,\u001b[38;5;241m1\u001b[39m, \u001b[38;5;241m1\u001b[39m, seq_size))\n\u001b[0;32m      2\u001b[0m testX \u001b[38;5;241m=\u001b[39m testX\u001b[38;5;241m.\u001b[39mreshape((testX\u001b[38;5;241m.\u001b[39mshape[\u001b[38;5;241m0\u001b[39m], \u001b[38;5;241m1\u001b[39m, \u001b[38;5;241m1\u001b[39m, \u001b[38;5;241m1\u001b[39m, seq_size))\n",
      "\u001b[1;31mValueError\u001b[0m: cannot reshape array of size 3207890 into shape (320800,1,1,1,10)"
     ]
    }
   ],
   "source": [
    "trainX = trainX.reshape((train.shape[0],1 ,1, 1, seq_size))\n",
    "testX = testX.reshape((testX.shape[0], 1, 1, 1, seq_size))"
   ]
  },
  {
   "cell_type": "code",
   "execution_count": null,
   "id": "c65d6d1b",
   "metadata": {},
   "outputs": [],
   "source": []
  }
 ],
 "metadata": {
  "kernelspec": {
   "display_name": "Python 3 (ipykernel)",
   "language": "python",
   "name": "python3"
  },
  "language_info": {
   "codemirror_mode": {
    "name": "ipython",
    "version": 3
   },
   "file_extension": ".py",
   "mimetype": "text/x-python",
   "name": "python",
   "nbconvert_exporter": "python",
   "pygments_lexer": "ipython3",
   "version": "3.11.3"
  }
 },
 "nbformat": 4,
 "nbformat_minor": 5
}
