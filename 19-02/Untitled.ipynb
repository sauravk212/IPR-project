{
 "cells": [
  {
   "cell_type": "code",
   "execution_count": 40,
   "id": "64df8f7b-ed86-454b-bb88-7eaa9b3b3045",
   "metadata": {},
   "outputs": [],
   "source": [
    "import pandas as pd\n",
    "import numpy as np\n",
    "import matplotlib.pyplot as plt\n",
    "import statsmodels.api as sms\n",
    "\n",
    "%matplotlib inline"
   ]
  },
  {
   "cell_type": "code",
   "execution_count": 41,
   "id": "c2126f35-16ab-4ca5-944f-ce84a0e55b94",
   "metadata": {},
   "outputs": [],
   "source": [
    "df = pd.read_csv('output2.csv',usecols=[1]).clip(lower=0)\n",
    "df = df.iloc[:400]"
   ]
  },
  {
   "cell_type": "code",
   "execution_count": 42,
   "id": "d8ab3abe-b937-4261-87ba-4e4257c95525",
   "metadata": {},
   "outputs": [
    {
     "data": {
      "text/html": [
       "<div>\n",
       "<style scoped>\n",
       "    .dataframe tbody tr th:only-of-type {\n",
       "        vertical-align: middle;\n",
       "    }\n",
       "\n",
       "    .dataframe tbody tr th {\n",
       "        vertical-align: top;\n",
       "    }\n",
       "\n",
       "    .dataframe thead th {\n",
       "        text-align: right;\n",
       "    }\n",
       "</style>\n",
       "<table border=\"1\" class=\"dataframe\">\n",
       "  <thead>\n",
       "    <tr style=\"text-align: right;\">\n",
       "      <th></th>\n",
       "      <th>Plasma_current</th>\n",
       "    </tr>\n",
       "  </thead>\n",
       "  <tbody>\n",
       "    <tr>\n",
       "      <th>0</th>\n",
       "      <td>0.0000</td>\n",
       "    </tr>\n",
       "    <tr>\n",
       "      <th>1</th>\n",
       "      <td>1.3591</td>\n",
       "    </tr>\n",
       "    <tr>\n",
       "      <th>2</th>\n",
       "      <td>5.7585</td>\n",
       "    </tr>\n",
       "    <tr>\n",
       "      <th>3</th>\n",
       "      <td>11.6940</td>\n",
       "    </tr>\n",
       "    <tr>\n",
       "      <th>4</th>\n",
       "      <td>17.8730</td>\n",
       "    </tr>\n",
       "  </tbody>\n",
       "</table>\n",
       "</div>"
      ],
      "text/plain": [
       "   Plasma_current\n",
       "0          0.0000\n",
       "1          1.3591\n",
       "2          5.7585\n",
       "3         11.6940\n",
       "4         17.8730"
      ]
     },
     "execution_count": 42,
     "metadata": {},
     "output_type": "execute_result"
    }
   ],
   "source": [
    "df.head()"
   ]
  },
  {
   "cell_type": "code",
   "execution_count": 43,
   "id": "e46912e2-9de2-4a7b-b9b2-2e798bf7d88f",
   "metadata": {},
   "outputs": [
    {
     "data": {
      "text/plain": [
       "Plasma_current    0\n",
       "dtype: int64"
      ]
     },
     "execution_count": 43,
     "metadata": {},
     "output_type": "execute_result"
    }
   ],
   "source": [
    "df.isnull().sum()"
   ]
  },
  {
   "cell_type": "code",
   "execution_count": 44,
   "id": "4d663049-de77-48db-bf88-b48d14887964",
   "metadata": {},
   "outputs": [],
   "source": [
    "# df['Plasma current: 10 days rolling'] = df['Plasma_current'].rolling(window=10,min_periods=1).mean()"
   ]
  },
  {
   "cell_type": "code",
   "execution_count": 45,
   "id": "1a630801-eecd-41c8-b0b7-d0c7dd47a769",
   "metadata": {},
   "outputs": [],
   "source": [
    "from statsmodels.tsa.stattools import adfuller"
   ]
  },
  {
   "cell_type": "code",
   "execution_count": 52,
   "id": "be2dddc1-f21a-48af-ad9a-776d1a6bddfc",
   "metadata": {},
   "outputs": [],
   "source": [
    "def adf_test(series):\n",
    "    result = adfuller(series)\n",
    "    print('ADF statistics: {}'.format(result[0]))\n",
    "    print('p-value: {}'.format(result[1]))\n",
    "\n",
    "    if(result[1] <= 0.5):\n",
    "        print('strong evidence against the null hypothesis, reject all null hypothesis. Data has no unit root and is stationary')\n",
    "    else:\n",
    "        print('weak evidence against null hypothesis, time series has a unit root, indicating it is stationary')"
   ]
  },
  {
   "cell_type": "code",
   "execution_count": 53,
   "id": "7386fc09-adbe-48a4-a789-e2f33f481b02",
   "metadata": {},
   "outputs": [
    {
     "name": "stdout",
     "output_type": "stream",
     "text": [
      "ADF statistics: -3.0537335052569134\n",
      "p-value: 0.030172032432997462\n",
      "strong evidence against the null hypothesis, reject all null hypothesis. Data has no unit root and is stationary\n"
     ]
    }
   ],
   "source": [
    "adf_test(df)"
   ]
  },
  {
   "cell_type": "code",
   "execution_count": null,
   "id": "f195e42f-b4ce-4dd2-96e5-bebd9bc6850b",
   "metadata": {},
   "outputs": [],
   "source": []
  }
 ],
 "metadata": {
  "kernelspec": {
   "display_name": "Python 3 (ipykernel)",
   "language": "python",
   "name": "python3"
  },
  "language_info": {
   "codemirror_mode": {
    "name": "ipython",
    "version": 3
   },
   "file_extension": ".py",
   "mimetype": "text/x-python",
   "name": "python",
   "nbconvert_exporter": "python",
   "pygments_lexer": "ipython3",
   "version": "3.11.5"
  }
 },
 "nbformat": 4,
 "nbformat_minor": 5
}
